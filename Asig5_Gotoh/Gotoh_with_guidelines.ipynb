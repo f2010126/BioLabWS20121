{
 "cells": [
  {
   "cell_type": "markdown",
   "metadata": {},
   "source": [
    "# Gotoh implementation\n",
    "\n",
    "In this asssingment you will be asked to implement the Gotoh algorithm.\n",
    "\n",
    "You can implement it with a corresponding function or a class. The choice is up to you.\n",
    "\n",
    "\n",
    "\n",
    "<span style=\"color:red\">In this asingment you cannot use import</span>\n",
    "\n",
    "### The inputs are:\n",
    "An input DNA or protein sequence1.\n",
    "\n",
    "An input DNA or protein sequence2.\n",
    "\n",
    "Affine gap open cost as an integer.\n",
    "\n",
    "Affine gap extension score as an integer\n",
    "\n",
    "Substitution matrix in a text file (This time it is an optional argument).\n",
    "\n",
    "\n",
    "### The Outputs are:\n",
    "Alingment score.\n",
    "All optimal alingment representations of sequence1 and sequence2.\n",
    "Each of the optimal alingments has to be represented by a tuple of strings corresponding to sequence1 and sequnce2 with the correct insertions and deletions. \n",
    "\n",
    "## Implementation\n",
    "\n",
    "First you need to implement your algorithm and test your implementation.\n",
    "Note that now your algorithm has to handle DNA sequences as well as the protein sequences.\n",
    "\n",
    "Test your code using http://rna.informatik.uni-freiburg.de/Teaching/index.jsp?toolName=Gotoh\n",
    "\n",
    "\n",
    "Make sure that you get identical results for all the matrices as well as all the alingments.\n",
    "\n",
    "### Graded tasks\n",
    "1. Create a pair of DNA sequences, both shorter than 30 nucleotides, and show that your implementation is capable of producing the correct alignment score as well as all the possible alignments. (Show the case with at least 2 possible alingments)\n",
    "\n",
    "2. Create 2 csv files scores_pam.csv, scores_blossum.csv (for PAM and BLOSSUM respectivelly) with all pairwise alignment scores between the input protein sequences.\n",
    "\n",
    "### Parameters\n",
    "\n",
    "1. Maximization in D, P and Q matrixes\n",
    "\n",
    "2. Scores for DNA: match=1, mismatch=-1, gap_opening(alpha) = -3, gap_extension(beta) = -1\n",
    "\n",
    "3. Scores for proteins substitution = value from the matrix, gap_opening(alpha) = -11, gap_extension(beta) = -1\n",
    "\n",
    "\n",
    "\n",
    "\n",
    "\n"
   ]
  },
  {
   "cell_type": "markdown",
   "metadata": {},
   "source": [
    "### Potenital Pitfalls\n",
    "1. Maximisation vs Minimization in the matrices\n",
    "2. Dimentions of D, P, Q matrices\n",
    "3. Confusion between P and Q matrices\n",
    "4. Correct cost of g(1) in recursion. Note that it is alpha + beta, not just alpha\n",
    "4. Confusion between row and column indexes\n",
    "5. Missing potential traceback paths\n"
   ]
  },
  {
   "cell_type": "code",
   "execution_count": null,
   "metadata": {},
   "outputs": [],
   "source": [
    "def gotoh(fasta_file_1, fasta_file_2, cost_gap_open, file_substitution_matrix=None):\n",
    "    \"Put your code here\"\n",
    "    return alignment_score, alignments\n",
    "\n",
    "\n",
    "class Gotoh:\n",
    "    def run(fasta_file_1, fasta_file_2, cost_gap_open, file_substitution_matrix=None):\n",
    "        \"Put your code here\"\n",
    "        return alignment_score, alignments"
   ]
  },
  {
   "cell_type": "markdown",
   "metadata": {},
   "source": [
    "## Guildines\n",
    "\n",
    "You do not have to use the suggested guidlines but it might help you not go get stuck."
   ]
  },
  {
   "cell_type": "code",
   "execution_count": null,
   "metadata": {},
   "outputs": [],
   "source": [
    "def score_of_alignment(align_seq1, align_seq2, cost_gap_open, \n",
    "                       cost_gap_extension, substitutions=None):\n",
    "    \"\"\"\n",
    "    A nice helper function which computes the score of the given alignment.\n",
    "    This is only used for the self check.\n",
    "    Input example:\n",
    "    --CG\n",
    "    AACA\n",
    "    \"\"\"\n",
    "    return score"
   ]
  },
  {
   "cell_type": "code",
   "execution_count": null,
   "metadata": {},
   "outputs": [],
   "source": [
    "def read_fasta_file(fasta_file):\n",
    "    \"Implement reading the fasta file\"\n",
    "    return sequence"
   ]
  },
  {
   "cell_type": "code",
   "execution_count": null,
   "metadata": {},
   "outputs": [],
   "source": [
    "def read_substitution_matrix(file_substitution_matrix):\n",
    "    \"\"\"\n",
    "    Implement reading the scores file.\n",
    "    It can be stored as a dictionary of example:\n",
    "    scores[(\"A\", \"R\")] = -1\n",
    "    \"\"\"\n",
    "    \n",
    "    return scores"
   ]
  },
  {
   "cell_type": "code",
   "execution_count": null,
   "metadata": {},
   "outputs": [],
   "source": [
    "def init_matrix_d(seq_1, seq_2, cost_gap_open, cost_gap_extend):\n",
    "    \"\"\"\n",
    "    Implement initialization of the matrix D\n",
    "    \"\"\"\n",
    "    return matrix_d"
   ]
  },
  {
   "cell_type": "code",
   "execution_count": null,
   "metadata": {},
   "outputs": [],
   "source": [
    "def init_matrix_p(seq_1, seq_2):\n",
    "    \"\"\"\n",
    "    Implement initialization of the matrix P\n",
    "    \"\"\"\n",
    "    return matrix_p"
   ]
  },
  {
   "cell_type": "code",
   "execution_count": null,
   "metadata": {},
   "outputs": [],
   "source": [
    "def init_matrix_q(seq_1, seq_2):\n",
    "    \"\"\"\n",
    "    Implement initialization of the matrix Q\n",
    "    \"\"\"\n",
    "    return matrix_q"
   ]
  },
  {
   "cell_type": "code",
   "execution_count": null,
   "metadata": {},
   "outputs": [],
   "source": [
    "def visualize_matrix(matrix):\n",
    "    \"\"\"\n",
    "    Implement the visualization of a matrix.\n",
    "    Can be used for self check\n",
    "    \"\"\""
   ]
  },
  {
   "cell_type": "code",
   "execution_count": null,
   "metadata": {},
   "outputs": [],
   "source": [
    "def complete_d_p_q_computation(seq_1, seq_2, cost_gap_open, cost_gap_extend, substitutions=None):\n",
    "    \"\"\"\n",
    "    Implement the recursive computation of matrices D, P and Q\n",
    "    \"\"\""
   ]
  },
  {
   "cell_type": "code",
   "execution_count": 4,
   "metadata": {},
   "outputs": [],
   "source": [
    "\"\"\"\n",
    "You are working with 3 matrices simultaneously.\n",
    "You can store your path as a list of cells.\n",
    "A cell can be a tuple: coordinates, matrix_name.\n",
    "And coordinates is a tuple of indexex i, j.\n",
    "\n",
    "Cell example: ((0, 2), \"d\")\n",
    "Path example: [((2, 4), 'd'), ((2, 4), 'q'), ((2, 3), 'q'), ((2, 2), 'd'), ((1, 1), 'd'), ((0, 0), 'd')]\n",
    "\n",
    "\"\"\"\n",
    "\n",
    "def compute_all_tracebacks(seq1, seq2, d_matrix, p_matrix, q_matrix,\n",
    "                           cost_gap_open, cost_gap_extend, substitution=None):\n",
    "    \"\"\"\n",
    "    Implement a search for all possible paths from the bottom right corner to the top left.\n",
    "    Implement 'find_all_previous' and check_complete first.\n",
    "   \n",
    "    \"\"\"\n",
    "    return all_paths\n",
    "    \n",
    "    \n",
    "    \n",
    "def find_all_previous(cell, seq1, seq2, d_matrix, p_matrix, q_matrix,\n",
    "                   cost_gap_open, cost_gap_extend, substitution=None):\n",
    "    parent_cells = []\n",
    "    \"\"\"\n",
    "    Implement a search for all possible previous cells.\n",
    "    \"\"\"\n",
    "            \n",
    "    return parent_cells\n",
    "\n",
    "def check_complete(path):\n",
    "    \"\"\"\n",
    "    Implement a function which checks if the traceback path is complete.\n",
    "    \"\"\"\n"
   ]
  },
  {
   "cell_type": "code",
   "execution_count": null,
   "metadata": {},
   "outputs": [],
   "source": [
    "def alignment(traceback_path, seq1, seq2):\n",
    "    \"\"\"\n",
    "    Implement creation of the alignment with given traceback path and sequences1 and 2\n",
    "    \"\"\"\n",
    "    return alignment_seq1, alignment_seq2"
   ]
  },
  {
   "cell_type": "code",
   "execution_count": null,
   "metadata": {},
   "outputs": [],
   "source": []
  }
 ],
 "metadata": {
  "kernelspec": {
   "display_name": "Python 3",
   "language": "python",
   "name": "python3"
  },
  "language_info": {
   "codemirror_mode": {
    "name": "ipython",
    "version": 3
   },
   "file_extension": ".py",
   "mimetype": "text/x-python",
   "name": "python",
   "nbconvert_exporter": "python",
   "pygments_lexer": "ipython3",
   "version": "3.6.9"
  }
 },
 "nbformat": 4,
 "nbformat_minor": 2
}
